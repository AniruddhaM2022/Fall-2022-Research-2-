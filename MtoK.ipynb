{
 "cells": [
  {
   "cell_type": "markdown",
   "id": "8941135f",
   "metadata": {},
   "source": [
    "# Necessary Packages"
   ]
  },
  {
   "cell_type": "code",
   "execution_count": 2,
   "id": "77ba9639",
   "metadata": {},
   "outputs": [],
   "source": [
    "############################################################\n",
    "# Importing the Necessary Packages\n",
    "############################################################\n",
    "import numpy as np\n",
    "import matplotlib.pyplot as plt\n",
    "from astropy.cosmology import Planck15 as cosmo\n",
    "import astropy.units as u\n",
    "from astropy.constants import c, G\n",
    "import pygravlens as gl"
   ]
  },
  {
   "cell_type": "markdown",
   "id": "32e6569c",
   "metadata": {},
   "source": [
    "# Mass Density to Convergence"
   ]
  },
  {
   "cell_type": "code",
   "execution_count": 3,
   "id": "4c14c44a",
   "metadata": {},
   "outputs": [],
   "source": [
    "def mtok(density_map, z_lens, z_source = 2.0):\n",
    "    dL = cosmo.angular_diameter_distance(z_lens)\n",
    "    dS = cosmo.angular_diameter_distance(z_source)\n",
    "    dLS = cosmo.angular_diameter_distance_z1z2(z_lens,z_source)\n",
    "    #compute critical density and convert to Msun per kpc^2\n",
    "    crit = ((c)**2 /(4*np.pi*G) *dS/(dL*dLS)).to(u.Msun/(u.kpc)**2)\n",
    "    #and convert to Msun per arcsec^2\n",
    "    dist = dL.to(u.kiloparsec)\n",
    "    crit = (crit * dist**2 /u.rad**2).to(u.Msun/u.arcsec**2)\n",
    "    print(f'Critcal density: {crit:.2e}')\n",
    "    \n",
    "    kappa = density_map/crit.value\n",
    "    return kappa"
   ]
  },
  {
   "cell_type": "markdown",
   "id": "58884e46",
   "metadata": {},
   "source": [
    "# Redshift Arrays"
   ]
  },
  {
   "cell_type": "code",
   "execution_count": 6,
   "id": "b4ef209c",
   "metadata": {},
   "outputs": [],
   "source": [
    "# First, I need a dictionary to link a snapshot number to its redshift. I could have used the header if only I had saved it\n",
    "reds = [1.00, 0.95, 0.92, 0.89, 0.85, 0.82, 0.79, 0.76, 0.73, 0.70, 0.68, 0.64, 0.62, 0.60, 0.58, 0.55, 0.52, 0.50, 0.48, 0.46, 0.44, 0.42, 0.40, 0.38, 0.36, 0.35, 0.33, 0.31, 0.30, 0.27, 0.26, 0.24, 0.23, 0.21, 0.20, 0.18, 0.17,0.15, 0.14, 0.13, 0.11, 0.10, 0.08, 0.07, 0.06, 0.05, 0.03, 0.02, 0.01, 0.0]\n",
    "sr = {}\n",
    "for i in np.arange(50, 100, 1):\n",
    "    sr[i] = reds[i - 50]"
   ]
  },
  {
   "cell_type": "markdown",
   "id": "5bd85b86",
   "metadata": {},
   "source": [
    "# Converter"
   ]
  },
  {
   "cell_type": "code",
   "execution_count": 28,
   "id": "626d44aa",
   "metadata": {},
   "outputs": [],
   "source": [
    "def dosnap(snap):\n",
    "    dens_maps = {}\n",
    "    def_maps = {}\n",
    "    \n",
    "    for i in range(len(snap)):\n",
    "        angle_per_ckpc = cosmo.arcsec_per_kpc_comoving(sr[snap[i]]).value\n",
    "        print(f'Snapshot {snap[i]}, z = {sr[snap[i]]}, angular scale = {angle_per_ckpc:.3f} arcsec/ckpc or {1/angle_per_ckpc:.2f} ckpc/arcsec')\n",
    "\n",
    "\n",
    "        # box size, in arcsec\n",
    "        Lbox_arcsec = 75000/cosmo.h * angle_per_ckpc\n",
    "\n",
    "        # density maps - dm\n",
    "        dens_map_dm = np.load('density_'+str(snap[i])+'_dm.npy', allow_pickle = 'TRUE')\n",
    "        dens_map_dm /= angle_per_ckpc**2\n",
    "        # stars\n",
    "        dens_map_stars = np.load('density_'+str(snap[i])+'_stars.npy', allow_pickle = 'TRUE')\n",
    "        dens_map_stars /=angle_per_ckpc**2\n",
    "        # gas\n",
    "        dens_map_gas = np.load('density_'+str(snap[i])+'_gas.npy', allow_pickle = 'TRUE')\n",
    "        dens_map_gas /=angle_per_ckpc**2\n",
    "        # total\n",
    "        global comb_dens_map\n",
    "        comb_dens_map = dens_map_dm + dens_map_stars + dens_map_gas\n",
    "        \n",
    "        dens_maps[snap[i]] = comb_dens_map\n",
    "\n",
    "        # number of pixels\n",
    "        npix = comb_dens_map.shape[0]\n",
    "        # pixel scale\n",
    "        pixel_scale = Lbox_arcsec/npix\n",
    "        print(f'Pixel scale = {pixel_scale:.2f} arcsec/pix')\n",
    "        # x and y arrays (1d)\n",
    "        global x1d, y1d\n",
    "        x1d = np.arange(-Lbox_arcsec/2,Lbox_arcsec/2,pixel_scale)\n",
    "        y1d = np.arange(-Lbox_arcsec/2,Lbox_arcsec/2,pixel_scale)\n",
    "        # shift by half a pixel so points give pixel *centers*\n",
    "        x1d += 0.5*pixel_scale\n",
    "        y1d += 0.5*pixel_scale\n",
    "\n",
    "        # calculate the kappa map\n",
    "        kappa_comb = mtok(comb_dens_map, sr[snap[i]])\n",
    "        # difference relative to mean\n",
    "        kappa_mean = np.mean(kappa_comb)\n",
    "        dkappa = kappa_comb - kappa_mean\n",
    "        print('Mean kappa =',kappa_mean)\n",
    "\n",
    "        # calculate lensing quantities\n",
    "        phi,phix,phiy,phixx,phiyy,phixy = gl.kappa2lens(x1d,y1d,dkappa)\n",
    "        defnorm = np.sqrt(phix**2+phiy**2)\n",
    "        \n",
    "        def_maps[snap[i]] = defnorm\n",
    "\n",
    "    np.save(f'dens_maps_dictionary_{snap}.npy', dens_maps)\n",
    "    np.save(f'def_maps_dictionary_{snap}.npy', def_maps)"
   ]
  }
 ],
 "metadata": {
  "kernelspec": {
   "display_name": "Python 3",
   "language": "python",
   "name": "python3"
  },
  "language_info": {
   "codemirror_mode": {
    "name": "ipython",
    "version": 3
   },
   "file_extension": ".py",
   "mimetype": "text/x-python",
   "name": "python",
   "nbconvert_exporter": "python",
   "pygments_lexer": "ipython3",
   "version": "3.8.8"
  }
 },
 "nbformat": 4,
 "nbformat_minor": 5
}
